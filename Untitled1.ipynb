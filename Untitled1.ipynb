{
  "nbformat": 4,
  "nbformat_minor": 0,
  "metadata": {
    "colab": {
      "provenance": []
    },
    "kernelspec": {
      "name": "python3",
      "display_name": "Python 3"
    },
    "language_info": {
      "name": "python"
    }
  },
  "cells": [
    {
      "cell_type": "code",
      "execution_count": null,
      "metadata": {
        "id": "ccn-dd2RJRhI"
      },
      "outputs": [],
      "source": []
    },
    {
      "cell_type": "markdown",
      "source": [
        "BAi E"
      ],
      "metadata": {
        "id": "sq4Vann_BRvJ"
      }
    },
    {
      "cell_type": "code",
      "source": [
        "n=int(input())\n",
        "print(n)"
      ],
      "metadata": {
        "colab": {
          "base_uri": "https://localhost:8080/"
        },
        "id": "YParAQnbBYYp",
        "outputId": "997b1873-93d3-4b8d-a125-75c6fa8a3f51"
      },
      "execution_count": null,
      "outputs": [
        {
          "output_type": "stream",
          "name": "stdout",
          "text": [
            "666\n",
            "666\n"
          ]
        }
      ]
    },
    {
      "cell_type": "markdown",
      "source": [
        "Bai F\n"
      ],
      "metadata": {
        "id": "kSrYI0xhDLXC"
      }
    },
    {
      "cell_type": "code",
      "source": [
        "n=int(input())\n",
        "m=int(input())\n",
        "x=n//m\n",
        "print(x)"
      ],
      "metadata": {
        "colab": {
          "base_uri": "https://localhost:8080/"
        },
        "id": "KO2mv2E8DOkh",
        "outputId": "80d6760f-3b88-4956-c901-1e7fa637a416"
      },
      "execution_count": null,
      "outputs": [
        {
          "output_type": "stream",
          "name": "stdout",
          "text": [
            "9\n",
            "3\n",
            "3\n"
          ]
        }
      ]
    },
    {
      "cell_type": "markdown",
      "source": [
        "Bai D\n"
      ],
      "metadata": {
        "id": "08o9NPqtGvBa"
      }
    },
    {
      "cell_type": "code",
      "source": [
        "n=int(input())\n",
        "m=int(input())\n",
        "x=n%m\n",
        "print(x)"
      ],
      "metadata": {
        "colab": {
          "base_uri": "https://localhost:8080/"
        },
        "id": "_zSAfpP0GwUC",
        "outputId": "5bc9a21d-96ad-4535-b477-4f16c9b9fd3f"
      },
      "execution_count": null,
      "outputs": [
        {
          "output_type": "stream",
          "name": "stdout",
          "text": [
            "2400\n",
            "4\n",
            "0\n"
          ]
        }
      ]
    }
  ]
}